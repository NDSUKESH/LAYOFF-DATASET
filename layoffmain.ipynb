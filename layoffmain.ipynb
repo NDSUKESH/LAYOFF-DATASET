{
  "nbformat": 4,
  "nbformat_minor": 0,
  "metadata": {
    "colab": {
      "provenance": []
    },
    "kernelspec": {
      "name": "python3",
      "display_name": "Python 3"
    },
    "language_info": {
      "name": "python"
    }
  },
  "cells": [
    {
      "cell_type": "code",
      "execution_count": 3,
      "metadata": {
        "id": "afPJ1RUabOhh"
      },
      "outputs": [],
      "source": [
        "import numpy as np\n",
        "import pandas as pd\n",
        "import seaborn as sns\n",
        "import matplotlib.pyplot as plt\n"
      ]
    },
    {
      "cell_type": "code",
      "source": [
        "df=pd.read_csv('/content/layoffs_data.csv')"
      ],
      "metadata": {
        "id": "eglcF_I6bdmQ"
      },
      "execution_count": 4,
      "outputs": []
    },
    {
      "cell_type": "code",
      "source": [
        "df.head(5)"
      ],
      "metadata": {
        "colab": {
          "base_uri": "https://localhost:8080/",
          "height": 409
        },
        "id": "BPRAYzSJbjFu",
        "outputId": "f1270889-3def-4a3c-fb2e-954e7eaacd88"
      },
      "execution_count": 5,
      "outputs": [
        {
          "output_type": "execute_result",
          "data": {
            "text/plain": [
              "       Company    Location_HQ    Industry  Laid_Off_Count Percentage  \\\n",
              "0       Splunk    SF Bay Area        Data             325         4%   \n",
              "1   DraftKings         Boston    Consumer             140         4%   \n",
              "2        Wheel         Austin  Healthcare              56        28%   \n",
              "3  Chainalysis  New York City      Crypto              44         5%   \n",
              "4      Exterro       Portland       Legal              24         3%   \n",
              "\n",
              "       Date                                             Source  \\\n",
              "0  2/1/2023  https://www.marketwatch.com/story/splunk-to-la...   \n",
              "1  2/1/2023  https://www.cnbc.com/2023/02/01/draftkings-cut...   \n",
              "2  2/1/2023  https://www.beckershospitalreview.com/teleheal...   \n",
              "3  2/1/2023  https://www.forbes.com/sites/stevenehrlich/202...   \n",
              "4  2/1/2023  https://www.oregonlive.com/silicon-forest/2023...   \n",
              "\n",
              "   Funds_Raised (Millions)           Stage      Date_Added        Country  \\\n",
              "0                   2400.0             IPO  2/1/2023 17:01  United States   \n",
              "1                    719.0             IPO  2/1/2023 19:08  United States   \n",
              "2                    215.0        Series C   2/2/2023 0:04  United States   \n",
              "3                    536.0        Series F   2/2/2023 3:13  United States   \n",
              "4                    100.0  Private Equity   2/2/2023 0:05  United States   \n",
              "\n",
              "  List_of_Employees_Laid_Off  Sum of Employees  \\\n",
              "0                    Unknown          290317.0   \n",
              "1                    Unknown               NaN   \n",
              "2                    Unknown               NaN   \n",
              "3                    Unknown               NaN   \n",
              "4                    Unknown               NaN   \n",
              "\n",
              "   Average # of Employees Laid Off Average Layoff %  Total Funds Raised  \\\n",
              "0                       262.018953              23%           850192.86   \n",
              "1                              NaN              NaN                 NaN   \n",
              "2                              NaN              NaN                 NaN   \n",
              "3                              NaN              NaN                 NaN   \n",
              "4                              NaN              NaN                 NaN   \n",
              "\n",
              "   Average Funds Raised  Unnamed: 17  Unnamed: 18  \n",
              "0                835.98          NaN          NaN  \n",
              "1                   NaN          NaN          NaN  \n",
              "2                   NaN          NaN          NaN  \n",
              "3                   NaN          NaN          NaN  \n",
              "4                   NaN          NaN          NaN  "
            ],
            "text/html": [
              "\n",
              "  <div id=\"df-8f0183c2-d596-4e25-a93a-07f1dae772d7\">\n",
              "    <div class=\"colab-df-container\">\n",
              "      <div>\n",
              "<style scoped>\n",
              "    .dataframe tbody tr th:only-of-type {\n",
              "        vertical-align: middle;\n",
              "    }\n",
              "\n",
              "    .dataframe tbody tr th {\n",
              "        vertical-align: top;\n",
              "    }\n",
              "\n",
              "    .dataframe thead th {\n",
              "        text-align: right;\n",
              "    }\n",
              "</style>\n",
              "<table border=\"1\" class=\"dataframe\">\n",
              "  <thead>\n",
              "    <tr style=\"text-align: right;\">\n",
              "      <th></th>\n",
              "      <th>Company</th>\n",
              "      <th>Location_HQ</th>\n",
              "      <th>Industry</th>\n",
              "      <th>Laid_Off_Count</th>\n",
              "      <th>Percentage</th>\n",
              "      <th>Date</th>\n",
              "      <th>Source</th>\n",
              "      <th>Funds_Raised (Millions)</th>\n",
              "      <th>Stage</th>\n",
              "      <th>Date_Added</th>\n",
              "      <th>Country</th>\n",
              "      <th>List_of_Employees_Laid_Off</th>\n",
              "      <th>Sum of Employees</th>\n",
              "      <th>Average # of Employees Laid Off</th>\n",
              "      <th>Average Layoff %</th>\n",
              "      <th>Total Funds Raised</th>\n",
              "      <th>Average Funds Raised</th>\n",
              "      <th>Unnamed: 17</th>\n",
              "      <th>Unnamed: 18</th>\n",
              "    </tr>\n",
              "  </thead>\n",
              "  <tbody>\n",
              "    <tr>\n",
              "      <th>0</th>\n",
              "      <td>Splunk</td>\n",
              "      <td>SF Bay Area</td>\n",
              "      <td>Data</td>\n",
              "      <td>325</td>\n",
              "      <td>4%</td>\n",
              "      <td>2/1/2023</td>\n",
              "      <td>https://www.marketwatch.com/story/splunk-to-la...</td>\n",
              "      <td>2400.0</td>\n",
              "      <td>IPO</td>\n",
              "      <td>2/1/2023 17:01</td>\n",
              "      <td>United States</td>\n",
              "      <td>Unknown</td>\n",
              "      <td>290317.0</td>\n",
              "      <td>262.018953</td>\n",
              "      <td>23%</td>\n",
              "      <td>850192.86</td>\n",
              "      <td>835.98</td>\n",
              "      <td>NaN</td>\n",
              "      <td>NaN</td>\n",
              "    </tr>\n",
              "    <tr>\n",
              "      <th>1</th>\n",
              "      <td>DraftKings</td>\n",
              "      <td>Boston</td>\n",
              "      <td>Consumer</td>\n",
              "      <td>140</td>\n",
              "      <td>4%</td>\n",
              "      <td>2/1/2023</td>\n",
              "      <td>https://www.cnbc.com/2023/02/01/draftkings-cut...</td>\n",
              "      <td>719.0</td>\n",
              "      <td>IPO</td>\n",
              "      <td>2/1/2023 19:08</td>\n",
              "      <td>United States</td>\n",
              "      <td>Unknown</td>\n",
              "      <td>NaN</td>\n",
              "      <td>NaN</td>\n",
              "      <td>NaN</td>\n",
              "      <td>NaN</td>\n",
              "      <td>NaN</td>\n",
              "      <td>NaN</td>\n",
              "      <td>NaN</td>\n",
              "    </tr>\n",
              "    <tr>\n",
              "      <th>2</th>\n",
              "      <td>Wheel</td>\n",
              "      <td>Austin</td>\n",
              "      <td>Healthcare</td>\n",
              "      <td>56</td>\n",
              "      <td>28%</td>\n",
              "      <td>2/1/2023</td>\n",
              "      <td>https://www.beckershospitalreview.com/teleheal...</td>\n",
              "      <td>215.0</td>\n",
              "      <td>Series C</td>\n",
              "      <td>2/2/2023 0:04</td>\n",
              "      <td>United States</td>\n",
              "      <td>Unknown</td>\n",
              "      <td>NaN</td>\n",
              "      <td>NaN</td>\n",
              "      <td>NaN</td>\n",
              "      <td>NaN</td>\n",
              "      <td>NaN</td>\n",
              "      <td>NaN</td>\n",
              "      <td>NaN</td>\n",
              "    </tr>\n",
              "    <tr>\n",
              "      <th>3</th>\n",
              "      <td>Chainalysis</td>\n",
              "      <td>New York City</td>\n",
              "      <td>Crypto</td>\n",
              "      <td>44</td>\n",
              "      <td>5%</td>\n",
              "      <td>2/1/2023</td>\n",
              "      <td>https://www.forbes.com/sites/stevenehrlich/202...</td>\n",
              "      <td>536.0</td>\n",
              "      <td>Series F</td>\n",
              "      <td>2/2/2023 3:13</td>\n",
              "      <td>United States</td>\n",
              "      <td>Unknown</td>\n",
              "      <td>NaN</td>\n",
              "      <td>NaN</td>\n",
              "      <td>NaN</td>\n",
              "      <td>NaN</td>\n",
              "      <td>NaN</td>\n",
              "      <td>NaN</td>\n",
              "      <td>NaN</td>\n",
              "    </tr>\n",
              "    <tr>\n",
              "      <th>4</th>\n",
              "      <td>Exterro</td>\n",
              "      <td>Portland</td>\n",
              "      <td>Legal</td>\n",
              "      <td>24</td>\n",
              "      <td>3%</td>\n",
              "      <td>2/1/2023</td>\n",
              "      <td>https://www.oregonlive.com/silicon-forest/2023...</td>\n",
              "      <td>100.0</td>\n",
              "      <td>Private Equity</td>\n",
              "      <td>2/2/2023 0:05</td>\n",
              "      <td>United States</td>\n",
              "      <td>Unknown</td>\n",
              "      <td>NaN</td>\n",
              "      <td>NaN</td>\n",
              "      <td>NaN</td>\n",
              "      <td>NaN</td>\n",
              "      <td>NaN</td>\n",
              "      <td>NaN</td>\n",
              "      <td>NaN</td>\n",
              "    </tr>\n",
              "  </tbody>\n",
              "</table>\n",
              "</div>\n",
              "      <button class=\"colab-df-convert\" onclick=\"convertToInteractive('df-8f0183c2-d596-4e25-a93a-07f1dae772d7')\"\n",
              "              title=\"Convert this dataframe to an interactive table.\"\n",
              "              style=\"display:none;\">\n",
              "        \n",
              "  <svg xmlns=\"http://www.w3.org/2000/svg\" height=\"24px\"viewBox=\"0 0 24 24\"\n",
              "       width=\"24px\">\n",
              "    <path d=\"M0 0h24v24H0V0z\" fill=\"none\"/>\n",
              "    <path d=\"M18.56 5.44l.94 2.06.94-2.06 2.06-.94-2.06-.94-.94-2.06-.94 2.06-2.06.94zm-11 1L8.5 8.5l.94-2.06 2.06-.94-2.06-.94L8.5 2.5l-.94 2.06-2.06.94zm10 10l.94 2.06.94-2.06 2.06-.94-2.06-.94-.94-2.06-.94 2.06-2.06.94z\"/><path d=\"M17.41 7.96l-1.37-1.37c-.4-.4-.92-.59-1.43-.59-.52 0-1.04.2-1.43.59L10.3 9.45l-7.72 7.72c-.78.78-.78 2.05 0 2.83L4 21.41c.39.39.9.59 1.41.59.51 0 1.02-.2 1.41-.59l7.78-7.78 2.81-2.81c.8-.78.8-2.07 0-2.86zM5.41 20L4 18.59l7.72-7.72 1.47 1.35L5.41 20z\"/>\n",
              "  </svg>\n",
              "      </button>\n",
              "      \n",
              "  <style>\n",
              "    .colab-df-container {\n",
              "      display:flex;\n",
              "      flex-wrap:wrap;\n",
              "      gap: 12px;\n",
              "    }\n",
              "\n",
              "    .colab-df-convert {\n",
              "      background-color: #E8F0FE;\n",
              "      border: none;\n",
              "      border-radius: 50%;\n",
              "      cursor: pointer;\n",
              "      display: none;\n",
              "      fill: #1967D2;\n",
              "      height: 32px;\n",
              "      padding: 0 0 0 0;\n",
              "      width: 32px;\n",
              "    }\n",
              "\n",
              "    .colab-df-convert:hover {\n",
              "      background-color: #E2EBFA;\n",
              "      box-shadow: 0px 1px 2px rgba(60, 64, 67, 0.3), 0px 1px 3px 1px rgba(60, 64, 67, 0.15);\n",
              "      fill: #174EA6;\n",
              "    }\n",
              "\n",
              "    [theme=dark] .colab-df-convert {\n",
              "      background-color: #3B4455;\n",
              "      fill: #D2E3FC;\n",
              "    }\n",
              "\n",
              "    [theme=dark] .colab-df-convert:hover {\n",
              "      background-color: #434B5C;\n",
              "      box-shadow: 0px 1px 3px 1px rgba(0, 0, 0, 0.15);\n",
              "      filter: drop-shadow(0px 1px 2px rgba(0, 0, 0, 0.3));\n",
              "      fill: #FFFFFF;\n",
              "    }\n",
              "  </style>\n",
              "\n",
              "      <script>\n",
              "        const buttonEl =\n",
              "          document.querySelector('#df-8f0183c2-d596-4e25-a93a-07f1dae772d7 button.colab-df-convert');\n",
              "        buttonEl.style.display =\n",
              "          google.colab.kernel.accessAllowed ? 'block' : 'none';\n",
              "\n",
              "        async function convertToInteractive(key) {\n",
              "          const element = document.querySelector('#df-8f0183c2-d596-4e25-a93a-07f1dae772d7');\n",
              "          const dataTable =\n",
              "            await google.colab.kernel.invokeFunction('convertToInteractive',\n",
              "                                                     [key], {});\n",
              "          if (!dataTable) return;\n",
              "\n",
              "          const docLinkHtml = 'Like what you see? Visit the ' +\n",
              "            '<a target=\"_blank\" href=https://colab.research.google.com/notebooks/data_table.ipynb>data table notebook</a>'\n",
              "            + ' to learn more about interactive tables.';\n",
              "          element.innerHTML = '';\n",
              "          dataTable['output_type'] = 'display_data';\n",
              "          await google.colab.output.renderOutput(dataTable, element);\n",
              "          const docLink = document.createElement('div');\n",
              "          docLink.innerHTML = docLinkHtml;\n",
              "          element.appendChild(docLink);\n",
              "        }\n",
              "      </script>\n",
              "    </div>\n",
              "  </div>\n",
              "  "
            ]
          },
          "metadata": {},
          "execution_count": 5
        }
      ]
    },
    {
      "cell_type": "code",
      "source": [
        "df.shape"
      ],
      "metadata": {
        "colab": {
          "base_uri": "https://localhost:8080/"
        },
        "id": "yL_O5W2_bs5v",
        "outputId": "b031aaf7-dc1a-42ca-db67-b828ff265797"
      },
      "execution_count": 6,
      "outputs": [
        {
          "output_type": "execute_result",
          "data": {
            "text/plain": [
              "(1108, 19)"
            ]
          },
          "metadata": {},
          "execution_count": 6
        }
      ]
    },
    {
      "cell_type": "code",
      "source": [
        "df.info()"
      ],
      "metadata": {
        "colab": {
          "base_uri": "https://localhost:8080/"
        },
        "id": "16_xXkH6bkrG",
        "outputId": "8b58d54d-954b-473c-fddd-46c4ba576462"
      },
      "execution_count": 7,
      "outputs": [
        {
          "output_type": "stream",
          "name": "stdout",
          "text": [
            "<class 'pandas.core.frame.DataFrame'>\n",
            "RangeIndex: 1108 entries, 0 to 1107\n",
            "Data columns (total 19 columns):\n",
            " #   Column                           Non-Null Count  Dtype  \n",
            "---  ------                           --------------  -----  \n",
            " 0   Company                          1108 non-null   object \n",
            " 1   Location_HQ                      1108 non-null   object \n",
            " 2   Industry                         1108 non-null   object \n",
            " 3   Laid_Off_Count                   1108 non-null   int64  \n",
            " 4   Percentage                       1108 non-null   object \n",
            " 5   Date                             1108 non-null   object \n",
            " 6   Source                           1108 non-null   object \n",
            " 7   Funds_Raised (Millions)          1017 non-null   float64\n",
            " 8   Stage                            1108 non-null   object \n",
            " 9   Date_Added                       1108 non-null   object \n",
            " 10  Country                          1108 non-null   object \n",
            " 11  List_of_Employees_Laid_Off       1108 non-null   object \n",
            " 12  Sum of Employees                 1 non-null      float64\n",
            " 13  Average # of Employees Laid Off  1 non-null      float64\n",
            " 14  Average Layoff %                 1 non-null      object \n",
            " 15  Total Funds Raised               1 non-null      float64\n",
            " 16  Average Funds Raised             1 non-null      float64\n",
            " 17  Unnamed: 17                      0 non-null      float64\n",
            " 18  Unnamed: 18                      0 non-null      float64\n",
            "dtypes: float64(7), int64(1), object(11)\n",
            "memory usage: 164.6+ KB\n"
          ]
        }
      ]
    },
    {
      "cell_type": "code",
      "source": [
        "pd.isna(df).sum()"
      ],
      "metadata": {
        "colab": {
          "base_uri": "https://localhost:8080/"
        },
        "id": "Zyp3j2KFm_Lp",
        "outputId": "dc2011ee-bd3b-4d8b-cfab-81d851d33540"
      },
      "execution_count": 8,
      "outputs": [
        {
          "output_type": "execute_result",
          "data": {
            "text/plain": [
              "Company                               0\n",
              "Location_HQ                           0\n",
              "Industry                              0\n",
              "Laid_Off_Count                        0\n",
              "Percentage                            0\n",
              "Date                                  0\n",
              "Source                                0\n",
              "Funds_Raised (Millions)              91\n",
              "Stage                                 0\n",
              "Date_Added                            0\n",
              "Country                               0\n",
              "List_of_Employees_Laid_Off            0\n",
              "Sum of Employees                   1107\n",
              "Average # of Employees Laid Off    1107\n",
              "Average Layoff %                   1107\n",
              "Total Funds Raised                 1107\n",
              "Average Funds Raised               1107\n",
              "Unnamed: 17                        1108\n",
              "Unnamed: 18                        1108\n",
              "dtype: int64"
            ]
          },
          "metadata": {},
          "execution_count": 8
        }
      ]
    },
    {
      "cell_type": "code",
      "source": [
        "df.drop(['Unnamed: 17'], axis=1,inplace=True)"
      ],
      "metadata": {
        "id": "ZKXhHUyvybD7"
      },
      "execution_count": 9,
      "outputs": []
    },
    {
      "cell_type": "code",
      "source": [
        "df.drop(['Sum of Employees'],axis=1,inplace=True)"
      ],
      "metadata": {
        "id": "IEj7-E9pYmIo"
      },
      "execution_count": 10,
      "outputs": []
    },
    {
      "cell_type": "code",
      "source": [
        "df.drop(['Average # of Employees Laid Off'],axis=1,inplace=True)"
      ],
      "metadata": {
        "id": "D82jss0XY8-L"
      },
      "execution_count": 11,
      "outputs": []
    },
    {
      "cell_type": "code",
      "source": [
        "df.drop(['Average Layoff %'],axis=1,inplace=True)"
      ],
      "metadata": {
        "id": "Kr8kfNm_ZD7q"
      },
      "execution_count": 12,
      "outputs": []
    },
    {
      "cell_type": "code",
      "source": [
        "df.drop(['Total Funds Raised'],axis=1,inplace=True)"
      ],
      "metadata": {
        "id": "iomaVsEa4kMC"
      },
      "execution_count": 13,
      "outputs": []
    },
    {
      "cell_type": "code",
      "source": [
        "df.drop(['Average Funds Raised'],axis=1,inplace=True)"
      ],
      "metadata": {
        "id": "I41iuGWfYgd3"
      },
      "execution_count": 14,
      "outputs": []
    },
    {
      "cell_type": "code",
      "source": [
        "df.drop(['List_of_Employees_Laid_Off'],axis=1,inplace=True)"
      ],
      "metadata": {
        "id": "cpE18Jx8XPQb"
      },
      "execution_count": 15,
      "outputs": []
    },
    {
      "cell_type": "code",
      "source": [
        "df.drop(['Unnamed: 18'],axis=1,inplace=True)"
      ],
      "metadata": {
        "id": "HN2F91XCZk5v"
      },
      "execution_count": 16,
      "outputs": []
    },
    {
      "cell_type": "code",
      "source": [
        "pd.isna(df).sum()"
      ],
      "metadata": {
        "colab": {
          "base_uri": "https://localhost:8080/"
        },
        "id": "wk3fTa58Zp4R",
        "outputId": "6082577c-4205-4e9b-db74-edba79784fc9"
      },
      "execution_count": 17,
      "outputs": [
        {
          "output_type": "execute_result",
          "data": {
            "text/plain": [
              "Company                     0\n",
              "Location_HQ                 0\n",
              "Industry                    0\n",
              "Laid_Off_Count              0\n",
              "Percentage                  0\n",
              "Date                        0\n",
              "Source                      0\n",
              "Funds_Raised (Millions)    91\n",
              "Stage                       0\n",
              "Date_Added                  0\n",
              "Country                     0\n",
              "dtype: int64"
            ]
          },
          "metadata": {},
          "execution_count": 17
        }
      ]
    },
    {
      "cell_type": "markdown",
      "source": [
        "**There is 91 null values in Fund raised column we cant drop it becaues it may store the important details of layoff done in companys which Data my be need.**"
      ],
      "metadata": {
        "id": "CPdVb3p6wa_R"
      }
    },
    {
      "cell_type": "code",
      "source": [
        "sns.boxplot(data=df,x='Funds_Raised (Millions)')"
      ],
      "metadata": {
        "colab": {
          "base_uri": "https://localhost:8080/",
          "height": 297
        },
        "id": "T5cztLqfZrDC",
        "outputId": "278610f6-cdf3-45d6-c5f6-d03587505962"
      },
      "execution_count": 18,
      "outputs": [
        {
          "output_type": "execute_result",
          "data": {
            "text/plain": [
              "<Axes: xlabel='Funds_Raised (Millions)'>"
            ]
          },
          "metadata": {},
          "execution_count": 18
        },
        {
          "output_type": "display_data",
          "data": {
            "text/plain": [
              "<Figure size 432x288 with 1 Axes>"
            ],
            "image/png": "[encoded data removed]"
          },
          "metadata": {
            "needs_background": "light"
          }
        }
      ]
    },
    {
      "cell_type": "code",
      "source": [
        "df['Funds_Raised (Millions)'].quantile(0.1)"
      ],
      "metadata": {
        "colab": {
          "base_uri": "https://localhost:8080/"
        },
        "id": "_9qdBa3ZaPZZ",
        "outputId": "5c10d42a-edcd-46e4-c301-fc030a19df65"
      },
      "execution_count": 19,
      "outputs": [
        {
          "output_type": "execute_result",
          "data": {
            "text/plain": [
              "18.60000000000001"
            ]
          },
          "metadata": {},
          "execution_count": 19
        }
      ]
    },
    {
      "cell_type": "code",
      "source": [
        "df.shape"
      ],
      "metadata": {
        "colab": {
          "base_uri": "https://localhost:8080/"
        },
        "id": "4sr1u755bO49",
        "outputId": "245cd92d-7eeb-47cd-ebaa-dd8c3de6a34c"
      },
      "execution_count": 20,
      "outputs": [
        {
          "output_type": "execute_result",
          "data": {
            "text/plain": [
              "(1108, 11)"
            ]
          },
          "metadata": {},
          "execution_count": 20
        }
      ]
    },
    {
      "cell_type": "code",
      "source": [
        "df['Funds_Raised (Millions)'].quantile(0.9)"
      ],
      "metadata": {
        "colab": {
          "base_uri": "https://localhost:8080/"
        },
        "id": "TAqc4a_mX_om",
        "outputId": "07c248ba-0085-46c3-9cea-6191006b7559"
      },
      "execution_count": 21,
      "outputs": [
        {
          "output_type": "execute_result",
          "data": {
            "text/plain": [
              "1139.9999999999977"
            ]
          },
          "metadata": {},
          "execution_count": 21
        }
      ]
    },
    {
      "cell_type": "code",
      "source": [
        "total_layoff_count_by_role = df.groupby('Industry')['Laid_Off_Count'].sum()\n",
        "type(total_layoff_count_by_role)"
      ],
      "metadata": {
        "id": "eFSJRA_wb_3U",
        "colab": {
          "base_uri": "https://localhost:8080/"
        },
        "outputId": "bc147343-4144-4fd8-a14a-2edd83898b50"
      },
      "execution_count": 22,
      "outputs": [
        {
          "output_type": "execute_result",
          "data": {
            "text/plain": [
              "pandas.core.series.Series"
            ]
          },
          "metadata": {},
          "execution_count": 22
        }
      ]
    },
    {
      "cell_type": "code",
      "source": [
        "x=total_layoff_count_by_role.sort_values(ascending=False)"
      ],
      "metadata": {
        "id": "rvIj62QoqALo"
      },
      "execution_count": 23,
      "outputs": []
    },
    {
      "cell_type": "code",
      "source": [
        "a=x.head(15)"
      ],
      "metadata": {
        "id": "rFQHbEnTq27W"
      },
      "execution_count": 24,
      "outputs": []
    },
    {
      "cell_type": "code",
      "source": [
        "a=a.to_frame(name=\"count\")\n",
        "type(a)"
      ],
      "metadata": {
        "colab": {
          "base_uri": "https://localhost:8080/"
        },
        "id": "aqINt14dq3Yr",
        "outputId": "1e70395a-3e99-4fc5-b568-9440ba39ce32"
      },
      "execution_count": 25,
      "outputs": [
        {
          "output_type": "execute_result",
          "data": {
            "text/plain": [
              "pandas.core.frame.DataFrame"
            ]
          },
          "metadata": {},
          "execution_count": 25
        }
      ]
    },
    {
      "cell_type": "code",
      "source": [
        "plt.subplots(figsize=(20,10))\n",
        "ax=sns.barplot(x=a.index,y=a['count'])\n",
        "for i in ax.containers:\n",
        "  ax.bar_label(i,)"
      ],
      "metadata": {
        "colab": {
          "base_uri": "https://localhost:8080/",
          "height": 606
        },
        "id": "dnUS1iIfr_CW",
        "outputId": "db368a4d-e075-4b04-bedb-b78d89763eda"
      },
      "execution_count": 26,
      "outputs": [
        {
          "output_type": "display_data",
          "data": {
            "text/plain": [
              "<Figure size 1440x720 with 1 Axes>"
            ],
            "image/png": "[encoded data removed]"
          },
          "metadata": {
            "needs_background": "light"
          }
        }
      ]
    },
    {
      "cell_type": "markdown",
      "source": [
        "***Customer care based roles employees are mostly last their job follwed by  Retail industry***"
      ],
      "metadata": {
        "id": "JgUX_NQwvK_S"
      }
    },
    {
      "cell_type": "code",
      "source": [
        "x=total_layoff_count_by_role.sort_values(ascending=True)\n",
        "a=x.head(5)\n",
        "a=a.to_frame(name=\"count\")\n",
        "plt.subplots(figsize=(10,10))\n",
        "ax=sns.barplot(x=a.index,y=a['count'])\n",
        "for i in ax.containers:\n",
        "  ax.bar_label(i,)"
      ],
      "metadata": {
        "colab": {
          "base_uri": "https://localhost:8080/",
          "height": 606
        },
        "id": "R24hspy8tLFH",
        "outputId": "74d07c88-b70f-4c74-bc95-41f3d7589cc9"
      },
      "execution_count": 61,
      "outputs": [
        {
          "output_type": "display_data",
          "data": {
            "text/plain": [
              "<Figure size 720x720 with 1 Axes>"
            ],
            "image/png": "[encoded data removed]"
          },
          "metadata": {
            "needs_background": "light"
          }
        }
      ]
    },
    {
      "cell_type": "code",
      "source": [
        "df['Company'].nunique()"
      ],
      "metadata": {
        "colab": {
          "base_uri": "https://localhost:8080/"
        },
        "id": "voV9dXd0vpe6",
        "outputId": "2e8f9e74-9035-4b18-8de6-0b2d8a913a29"
      },
      "execution_count": 28,
      "outputs": [
        {
          "output_type": "execute_result",
          "data": {
            "text/plain": [
              "964"
            ]
          },
          "metadata": {},
          "execution_count": 28
        }
      ]
    },
    {
      "cell_type": "code",
      "source": [
        "com=df.groupby('Company')['Laid_Off_Count'].sum()"
      ],
      "metadata": {
        "id": "qukVRfctvv5u"
      },
      "execution_count": 29,
      "outputs": []
    },
    {
      "cell_type": "code",
      "source": [
        "com=com.sort_values(ascending=False)\n",
        "com=com.to_frame(name=\"count\")\n",
        "com=com.head(15)"
      ],
      "metadata": {
        "id": "Vge10EnfwNH-"
      },
      "execution_count": 30,
      "outputs": []
    },
    {
      "cell_type": "code",
      "source": [
        "plt.subplots(figsize=(20,10))\n",
        "ax=sns.barplot(x=com.index,y=com['count'])\n",
        "for i in ax.containers:\n",
        "    ax.bar_label(i, label_type='edge')"
      ],
      "metadata": {
        "colab": {
          "base_uri": "https://localhost:8080/",
          "height": 606
        },
        "id": "j2udWYNxwNlG",
        "outputId": "79597844-5276-4c29-9bb4-09064f10ed68"
      },
      "execution_count": 31,
      "outputs": [
        {
          "output_type": "display_data",
          "data": {
            "text/plain": [
              "<Figure size 1440x720 with 1 Axes>"
            ],
            "image/png": "[encoded data removed]"
          },
          "metadata": {
            "needs_background": "light"
          }
        }
      ]
    },
    {
      "cell_type": "markdown",
      "source": [
        "***Amazon has layoffed the most employees in last few years***"
      ],
      "metadata": {
        "id": "82vyaul-x1eL"
      }
    },
    {
      "cell_type": "code",
      "source": [
        "location=df.groupby('Country')['Laid_Off_Count'].sum()\n",
        "location=location.sort_values(ascending=False)"
      ],
      "metadata": {
        "id": "GeP2cKJfxtDY"
      },
      "execution_count": 32,
      "outputs": []
    },
    {
      "cell_type": "code",
      "source": [
        "location=location.to_frame(name=\"count\")\n",
        "location=location.head(15)"
      ],
      "metadata": {
        "id": "ubSo3MJByClu"
      },
      "execution_count": 33,
      "outputs": []
    },
    {
      "cell_type": "code",
      "source": [
        "plt.subplots(figsize=(20,10))\n",
        "ax=sns.barplot(x=location.index,y=location['count'])\n",
        "for i in ax.containers:\n",
        "    ax.bar_label(i, label_type='edge')"
      ],
      "metadata": {
        "colab": {
          "base_uri": "https://localhost:8080/",
          "height": 606
        },
        "id": "bhpL_JIkyYpc",
        "outputId": "59b457eb-e2d5-4d08-fafc-5ee1557527a1"
      },
      "execution_count": 34,
      "outputs": [
        {
          "output_type": "display_data",
          "data": {
            "text/plain": [
              "<Figure size 1440x720 with 1 Axes>"
            ],
            "image/png": "[encoded data removed]"
          },
          "metadata": {
            "needs_background": "light"
          }
        }
      ]
    },
    {
      "cell_type": "code",
      "source": [
        "location=df.groupby('Country')['Laid_Off_Count'].sum()\n",
        "location=location.sort_values(ascending=True)\n",
        "location=location.to_frame(name=\"count\")\n",
        "location=location.head(3)\n",
        "plt.subplots(figsize=(5,5))\n",
        "ax=sns.barplot(x=location.index,y=location['count'])\n",
        "for i in ax.containers:\n",
        "    ax.bar_label(i, label_type='edge')"
      ],
      "metadata": {
        "colab": {
          "base_uri": "https://localhost:8080/",
          "height": 334
        },
        "id": "8bUMuOOD6DPg",
        "outputId": "f4d066c3-e219-470d-ae5d-22ae0878c368"
      },
      "execution_count": 35,
      "outputs": [
        {
          "output_type": "display_data",
          "data": {
            "text/plain": [
              "<Figure size 360x360 with 1 Axes>"
            ],
            "image/png": "[encoded data removed]"
          },
          "metadata": {
            "needs_background": "light"
          }
        }
      ]
    },
    {
      "cell_type": "markdown",
      "source": [
        "**United states of America and India has most layoff because they both have the most IT company located\n",
        " and least layoff was done in Luxembourg**"
      ],
      "metadata": {
        "id": "81e_VXsPzphI"
      }
    },
    {
      "cell_type": "code",
      "source": [
        "df['Date']=pd.to_datetime(df['Date'])"
      ],
      "metadata": {
        "id": "Cw0GJHSAz8on"
      },
      "execution_count": 36,
      "outputs": []
    },
    {
      "cell_type": "code",
      "source": [
        "df.info()"
      ],
      "metadata": {
        "colab": {
          "base_uri": "https://localhost:8080/"
        },
        "id": "3P8B0Ba80bw6",
        "outputId": "c5dec780-8a77-4e9f-cc4f-097a10d2a28a"
      },
      "execution_count": 37,
      "outputs": [
        {
          "output_type": "stream",
          "name": "stdout",
          "text": [
            "<class 'pandas.core.frame.DataFrame'>\n",
            "RangeIndex: 1108 entries, 0 to 1107\n",
            "Data columns (total 11 columns):\n",
            " #   Column                   Non-Null Count  Dtype         \n",
            "---  ------                   --------------  -----         \n",
            " 0   Company                  1108 non-null   object        \n",
            " 1   Location_HQ              1108 non-null   object        \n",
            " 2   Industry                 1108 non-null   object        \n",
            " 3   Laid_Off_Count           1108 non-null   int64         \n",
            " 4   Percentage               1108 non-null   object        \n",
            " 5   Date                     1108 non-null   datetime64[ns]\n",
            " 6   Source                   1108 non-null   object        \n",
            " 7   Funds_Raised (Millions)  1017 non-null   float64       \n",
            " 8   Stage                    1108 non-null   object        \n",
            " 9   Date_Added               1108 non-null   object        \n",
            " 10  Country                  1108 non-null   object        \n",
            "dtypes: datetime64[ns](1), float64(1), int64(1), object(8)\n",
            "memory usage: 95.3+ KB\n"
          ]
        }
      ]
    },
    {
      "cell_type": "code",
      "source": [
        "df['year'] = df['Date'].dt.year"
      ],
      "metadata": {
        "id": "Hc5vEua40dr1"
      },
      "execution_count": 38,
      "outputs": []
    },
    {
      "cell_type": "code",
      "source": [
        "df.head(3)"
      ],
      "metadata": {
        "colab": {
          "base_uri": "https://localhost:8080/",
          "height": 187
        },
        "id": "sjytZzJT01tY",
        "outputId": "4277fc8b-db4d-4d3d-8f95-77b03d02a723"
      },
      "execution_count": 39,
      "outputs": [
        {
          "output_type": "execute_result",
          "data": {
            "text/plain": [
              "      Company  Location_HQ    Industry  Laid_Off_Count Percentage       Date  \\\n",
              "0      Splunk  SF Bay Area        Data             325         4% 2023-02-01   \n",
              "1  DraftKings       Boston    Consumer             140         4% 2023-02-01   \n",
              "2       Wheel       Austin  Healthcare              56        28% 2023-02-01   \n",
              "\n",
              "                                              Source  Funds_Raised (Millions)  \\\n",
              "0  https://www.marketwatch.com/story/splunk-to-la...                   2400.0   \n",
              "1  https://www.cnbc.com/2023/02/01/draftkings-cut...                    719.0   \n",
              "2  https://www.beckershospitalreview.com/teleheal...                    215.0   \n",
              "\n",
              "      Stage      Date_Added        Country  year  \n",
              "0       IPO  2/1/2023 17:01  United States  2023  \n",
              "1       IPO  2/1/2023 19:08  United States  2023  \n",
              "2  Series C   2/2/2023 0:04  United States  2023  "
            ],
            "text/html": [
              "\n",
              "  <div id=\"df-b5dba087-8cef-4094-91f3-80013bd8ca5c\">\n",
              "    <div class=\"colab-df-container\">\n",
              "      <div>\n",
              "<style scoped>\n",
              "    .dataframe tbody tr th:only-of-type {\n",
              "        vertical-align: middle;\n",
              "    }\n",
              "\n",
              "    .dataframe tbody tr th {\n",
              "        vertical-align: top;\n",
              "    }\n",
              "\n",
              "    .dataframe thead th {\n",
              "        text-align: right;\n",
              "    }\n",
              "</style>\n",
              "<table border=\"1\" class=\"dataframe\">\n",
              "  <thead>\n",
              "    <tr style=\"text-align: right;\">\n",
              "      <th></th>\n",
              "      <th>Company</th>\n",
              "      <th>Location_HQ</th>\n",
              "      <th>Industry</th>\n",
              "      <th>Laid_Off_Count</th>\n",
              "      <th>Percentage</th>\n",
              "      <th>Date</th>\n",
              "      <th>Source</th>\n",
              "      <th>Funds_Raised (Millions)</th>\n",
              "      <th>Stage</th>\n",
              "      <th>Date_Added</th>\n",
              "      <th>Country</th>\n",
              "      <th>year</th>\n",
              "    </tr>\n",
              "  </thead>\n",
              "  <tbody>\n",
              "    <tr>\n",
              "      <th>0</th>\n",
              "      <td>Splunk</td>\n",
              "      <td>SF Bay Area</td>\n",
              "      <td>Data</td>\n",
              "      <td>325</td>\n",
              "      <td>4%</td>\n",
              "      <td>2023-02-01</td>\n",
              "      <td>https://www.marketwatch.com/story/splunk-to-la...</td>\n",
              "      <td>2400.0</td>\n",
              "      <td>IPO</td>\n",
              "      <td>2/1/2023 17:01</td>\n",
              "      <td>United States</td>\n",
              "      <td>2023</td>\n",
              "    </tr>\n",
              "    <tr>\n",
              "      <th>1</th>\n",
              "      <td>DraftKings</td>\n",
              "      <td>Boston</td>\n",
              "      <td>Consumer</td>\n",
              "      <td>140</td>\n",
              "      <td>4%</td>\n",
              "      <td>2023-02-01</td>\n",
              "      <td>https://www.cnbc.com/2023/02/01/draftkings-cut...</td>\n",
              "      <td>719.0</td>\n",
              "      <td>IPO</td>\n",
              "      <td>2/1/2023 19:08</td>\n",
              "      <td>United States</td>\n",
              "      <td>2023</td>\n",
              "    </tr>\n",
              "    <tr>\n",
              "      <th>2</th>\n",
              "      <td>Wheel</td>\n",
              "      <td>Austin</td>\n",
              "      <td>Healthcare</td>\n",
              "      <td>56</td>\n",
              "      <td>28%</td>\n",
              "      <td>2023-02-01</td>\n",
              "      <td>https://www.beckershospitalreview.com/teleheal...</td>\n",
              "      <td>215.0</td>\n",
              "      <td>Series C</td>\n",
              "      <td>2/2/2023 0:04</td>\n",
              "      <td>United States</td>\n",
              "      <td>2023</td>\n",
              "    </tr>\n",
              "  </tbody>\n",
              "</table>\n",
              "</div>\n",
              "      <button class=\"colab-df-convert\" onclick=\"convertToInteractive('df-b5dba087-8cef-4094-91f3-80013bd8ca5c')\"\n",
              "              title=\"Convert this dataframe to an interactive table.\"\n",
              "              style=\"display:none;\">\n",
              "        \n",
              "  <svg xmlns=\"http://www.w3.org/2000/svg\" height=\"24px\"viewBox=\"0 0 24 24\"\n",
              "       width=\"24px\">\n",
              "    <path d=\"M0 0h24v24H0V0z\" fill=\"none\"/>\n",
              "    <path d=\"M18.56 5.44l.94 2.06.94-2.06 2.06-.94-2.06-.94-.94-2.06-.94 2.06-2.06.94zm-11 1L8.5 8.5l.94-2.06 2.06-.94-2.06-.94L8.5 2.5l-.94 2.06-2.06.94zm10 10l.94 2.06.94-2.06 2.06-.94-2.06-.94-.94-2.06-.94 2.06-2.06.94z\"/><path d=\"M17.41 7.96l-1.37-1.37c-.4-.4-.92-.59-1.43-.59-.52 0-1.04.2-1.43.59L10.3 9.45l-7.72 7.72c-.78.78-.78 2.05 0 2.83L4 21.41c.39.39.9.59 1.41.59.51 0 1.02-.2 1.41-.59l7.78-7.78 2.81-2.81c.8-.78.8-2.07 0-2.86zM5.41 20L4 18.59l7.72-7.72 1.47 1.35L5.41 20z\"/>\n",
              "  </svg>\n",
              "      </button>\n",
              "      \n",
              "  <style>\n",
              "    .colab-df-container {\n",
              "      display:flex;\n",
              "      flex-wrap:wrap;\n",
              "      gap: 12px;\n",
              "    }\n",
              "\n",
              "    .colab-df-convert {\n",
              "      background-color: #E8F0FE;\n",
              "      border: none;\n",
              "      border-radius: 50%;\n",
              "      cursor: pointer;\n",
              "      display: none;\n",
              "      fill: #1967D2;\n",
              "      height: 32px;\n",
              "      padding: 0 0 0 0;\n",
              "      width: 32px;\n",
              "    }\n",
              "\n",
              "    .colab-df-convert:hover {\n",
              "      background-color: #E2EBFA;\n",
              "      box-shadow: 0px 1px 2px rgba(60, 64, 67, 0.3), 0px 1px 3px 1px rgba(60, 64, 67, 0.15);\n",
              "      fill: #174EA6;\n",
              "    }\n",
              "\n",
              "    [theme=dark] .colab-df-convert {\n",
              "      background-color: #3B4455;\n",
              "      fill: #D2E3FC;\n",
              "    }\n",
              "\n",
              "    [theme=dark] .colab-df-convert:hover {\n",
              "      background-color: #434B5C;\n",
              "      box-shadow: 0px 1px 3px 1px rgba(0, 0, 0, 0.15);\n",
              "      filter: drop-shadow(0px 1px 2px rgba(0, 0, 0, 0.3));\n",
              "      fill: #FFFFFF;\n",
              "    }\n",
              "  </style>\n",
              "\n",
              "      <script>\n",
              "        const buttonEl =\n",
              "          document.querySelector('#df-b5dba087-8cef-4094-91f3-80013bd8ca5c button.colab-df-convert');\n",
              "        buttonEl.style.display =\n",
              "          google.colab.kernel.accessAllowed ? 'block' : 'none';\n",
              "\n",
              "        async function convertToInteractive(key) {\n",
              "          const element = document.querySelector('#df-b5dba087-8cef-4094-91f3-80013bd8ca5c');\n",
              "          const dataTable =\n",
              "            await google.colab.kernel.invokeFunction('convertToInteractive',\n",
              "                                                     [key], {});\n",
              "          if (!dataTable) return;\n",
              "\n",
              "          const docLinkHtml = 'Like what you see? Visit the ' +\n",
              "            '<a target=\"_blank\" href=https://colab.research.google.com/notebooks/data_table.ipynb>data table notebook</a>'\n",
              "            + ' to learn more about interactive tables.';\n",
              "          element.innerHTML = '';\n",
              "          dataTable['output_type'] = 'display_data';\n",
              "          await google.colab.output.renderOutput(dataTable, element);\n",
              "          const docLink = document.createElement('div');\n",
              "          docLink.innerHTML = docLinkHtml;\n",
              "          element.appendChild(docLink);\n",
              "        }\n",
              "      </script>\n",
              "    </div>\n",
              "  </div>\n",
              "  "
            ]
          },
          "metadata": {},
          "execution_count": 39
        }
      ]
    },
    {
      "cell_type": "code",
      "source": [
        "year=df.groupby('year')['Laid_Off_Count'].sum()\n",
        "year.sort_values(ascending=False,inplace=True)\n",
        "year=year.to_frame(name=\"count\")"
      ],
      "metadata": {
        "id": "SYMbjpqx0278"
      },
      "execution_count": 40,
      "outputs": []
    },
    {
      "cell_type": "code",
      "source": [
        "year"
      ],
      "metadata": {
        "colab": {
          "base_uri": "https://localhost:8080/",
          "height": 206
        },
        "id": "n3CG21i31dko",
        "outputId": "7f5723fa-612d-485b-9d09-8c4d4ee10322"
      },
      "execution_count": 41,
      "outputs": [
        {
          "output_type": "execute_result",
          "data": {
            "text/plain": [
              "       count\n",
              "year        \n",
              "2022  134990\n",
              "2023   78203\n",
              "2020   70621\n",
              "2021    6503"
            ],
            "text/html": [
              "\n",
              "  <div id=\"df-e93b0ffc-3e70-481a-8e74-eab372522184\">\n",
              "    <div class=\"colab-df-container\">\n",
              "      <div>\n",
              "<style scoped>\n",
              "    .dataframe tbody tr th:only-of-type {\n",
              "        vertical-align: middle;\n",
              "    }\n",
              "\n",
              "    .dataframe tbody tr th {\n",
              "        vertical-align: top;\n",
              "    }\n",
              "\n",
              "    .dataframe thead th {\n",
              "        text-align: right;\n",
              "    }\n",
              "</style>\n",
              "<table border=\"1\" class=\"dataframe\">\n",
              "  <thead>\n",
              "    <tr style=\"text-align: right;\">\n",
              "      <th></th>\n",
              "      <th>count</th>\n",
              "    </tr>\n",
              "    <tr>\n",
              "      <th>year</th>\n",
              "      <th></th>\n",
              "    </tr>\n",
              "  </thead>\n",
              "  <tbody>\n",
              "    <tr>\n",
              "      <th>2022</th>\n",
              "      <td>134990</td>\n",
              "    </tr>\n",
              "    <tr>\n",
              "      <th>2023</th>\n",
              "      <td>78203</td>\n",
              "    </tr>\n",
              "    <tr>\n",
              "      <th>2020</th>\n",
              "      <td>70621</td>\n",
              "    </tr>\n",
              "    <tr>\n",
              "      <th>2021</th>\n",
              "      <td>6503</td>\n",
              "    </tr>\n",
              "  </tbody>\n",
              "</table>\n",
              "</div>\n",
              "      <button class=\"colab-df-convert\" onclick=\"convertToInteractive('df-e93b0ffc-3e70-481a-8e74-eab372522184')\"\n",
              "              title=\"Convert this dataframe to an interactive table.\"\n",
              "              style=\"display:none;\">\n",
              "        \n",
              "  <svg xmlns=\"http://www.w3.org/2000/svg\" height=\"24px\"viewBox=\"0 0 24 24\"\n",
              "       width=\"24px\">\n",
              "    <path d=\"M0 0h24v24H0V0z\" fill=\"none\"/>\n",
              "    <path d=\"M18.56 5.44l.94 2.06.94-2.06 2.06-.94-2.06-.94-.94-2.06-.94 2.06-2.06.94zm-11 1L8.5 8.5l.94-2.06 2.06-.94-2.06-.94L8.5 2.5l-.94 2.06-2.06.94zm10 10l.94 2.06.94-2.06 2.06-.94-2.06-.94-.94-2.06-.94 2.06-2.06.94z\"/><path d=\"M17.41 7.96l-1.37-1.37c-.4-.4-.92-.59-1.43-.59-.52 0-1.04.2-1.43.59L10.3 9.45l-7.72 7.72c-.78.78-.78 2.05 0 2.83L4 21.41c.39.39.9.59 1.41.59.51 0 1.02-.2 1.41-.59l7.78-7.78 2.81-2.81c.8-.78.8-2.07 0-2.86zM5.41 20L4 18.59l7.72-7.72 1.47 1.35L5.41 20z\"/>\n",
              "  </svg>\n",
              "      </button>\n",
              "      \n",
              "  <style>\n",
              "    .colab-df-container {\n",
              "      display:flex;\n",
              "      flex-wrap:wrap;\n",
              "      gap: 12px;\n",
              "    }\n",
              "\n",
              "    .colab-df-convert {\n",
              "      background-color: #E8F0FE;\n",
              "      border: none;\n",
              "      border-radius: 50%;\n",
              "      cursor: pointer;\n",
              "      display: none;\n",
              "      fill: #1967D2;\n",
              "      height: 32px;\n",
              "      padding: 0 0 0 0;\n",
              "      width: 32px;\n",
              "    }\n",
              "\n",
              "    .colab-df-convert:hover {\n",
              "      background-color: #E2EBFA;\n",
              "      box-shadow: 0px 1px 2px rgba(60, 64, 67, 0.3), 0px 1px 3px 1px rgba(60, 64, 67, 0.15);\n",
              "      fill: #174EA6;\n",
              "    }\n",
              "\n",
              "    [theme=dark] .colab-df-convert {\n",
              "      background-color: #3B4455;\n",
              "      fill: #D2E3FC;\n",
              "    }\n",
              "\n",
              "    [theme=dark] .colab-df-convert:hover {\n",
              "      background-color: #434B5C;\n",
              "      box-shadow: 0px 1px 3px 1px rgba(0, 0, 0, 0.15);\n",
              "      filter: drop-shadow(0px 1px 2px rgba(0, 0, 0, 0.3));\n",
              "      fill: #FFFFFF;\n",
              "    }\n",
              "  </style>\n",
              "\n",
              "      <script>\n",
              "        const buttonEl =\n",
              "          document.querySelector('#df-e93b0ffc-3e70-481a-8e74-eab372522184 button.colab-df-convert');\n",
              "        buttonEl.style.display =\n",
              "          google.colab.kernel.accessAllowed ? 'block' : 'none';\n",
              "\n",
              "        async function convertToInteractive(key) {\n",
              "          const element = document.querySelector('#df-e93b0ffc-3e70-481a-8e74-eab372522184');\n",
              "          const dataTable =\n",
              "            await google.colab.kernel.invokeFunction('convertToInteractive',\n",
              "                                                     [key], {});\n",
              "          if (!dataTable) return;\n",
              "\n",
              "          const docLinkHtml = 'Like what you see? Visit the ' +\n",
              "            '<a target=\"_blank\" href=https://colab.research.google.com/notebooks/data_table.ipynb>data table notebook</a>'\n",
              "            + ' to learn more about interactive tables.';\n",
              "          element.innerHTML = '';\n",
              "          dataTable['output_type'] = 'display_data';\n",
              "          await google.colab.output.renderOutput(dataTable, element);\n",
              "          const docLink = document.createElement('div');\n",
              "          docLink.innerHTML = docLinkHtml;\n",
              "          element.appendChild(docLink);\n",
              "        }\n",
              "      </script>\n",
              "    </div>\n",
              "  </div>\n",
              "  "
            ]
          },
          "metadata": {},
          "execution_count": 41
        }
      ]
    },
    {
      "cell_type": "code",
      "source": [
        "ax=sns.barplot(x=year.index,y=year['count'],palette=\"pastel\")\n",
        "for i in ax.containers:\n",
        "  ax.bar_label(i,)"
      ],
      "metadata": {
        "colab": {
          "base_uri": "https://localhost:8080/",
          "height": 281
        },
        "id": "BoPgE58W1mIK",
        "outputId": "39ea090b-99e3-4a57-8866-d48d83bb7fe0"
      },
      "execution_count": 42,
      "outputs": [
        {
          "output_type": "display_data",
          "data": {
            "text/plain": [
              "<Figure size 432x288 with 1 Axes>"
            ],
            "image/png": "[encoded data removed]"
          },
          "metadata": {
            "needs_background": "light"
          }
        }
      ]
    },
    {
      "cell_type": "code",
      "source": [
        "plt.subplots(figsize=(10,10))\n",
        "palette_color = sns.color_palette('rainbow')\n",
        "plt.pie(year['count'],labels=year.index,colors=palette_color, autopct='%.0f%%')\n"
      ],
      "metadata": {
        "colab": {
          "base_uri": "https://localhost:8080/",
          "height": 783
        },
        "id": "818LAyVA3JGf",
        "outputId": "ff200e78-4139-468b-ffbc-0eedeb3c1eee"
      },
      "execution_count": 43,
      "outputs": [
        {
          "output_type": "execute_result",
          "data": {
            "text/plain": [
              "([<matplotlib.patches.Wedge at 0x7ff72c9f7f40>,\n",
              "  <matplotlib.patches.Wedge at 0x7ff72ca43070>,\n",
              "  <matplotlib.patches.Wedge at 0x7ff72ca07c70>,\n",
              "  <matplotlib.patches.Wedge at 0x7ff72c99a340>],\n",
              " [Text(0.12079535608701325, 1.0933473747843419, '2022'),\n",
              "  Text(-0.8912978079060067, -0.6446613200913698, '2023'),\n",
              "  Text(0.6794985396783776, -0.865032793930353, '2020'),\n",
              "  Text(1.097277507789895, -0.07734384848452508, '2021')],\n",
              " [Text(0.06588837604746177, 0.5963712953369137, '46%'),\n",
              "  Text(-0.48616244067600356, -0.3516334473225653, '27%'),\n",
              "  Text(0.37063556709729684, -0.4718360694165561, '24%'),\n",
              "  Text(0.5985150042490336, -0.04218755371883186, '2%')])"
            ]
          },
          "metadata": {},
          "execution_count": 43
        },
        {
          "output_type": "display_data",
          "data": {
            "text/plain": [
              "<Figure size 720x720 with 1 Axes>"
            ],
            "image/png": "[encoded data removed]"
          },
          "metadata": {}
        }
      ]
    },
    {
      "cell_type": "markdown",
      "source": [
        "**year 2022(46%)has most layoff although year 2023(27%) has less count this dataset has values upto feb only**"
      ],
      "metadata": {
        "id": "hD7rifLJ25oZ"
      }
    },
    {
      "cell_type": "code",
      "source": [
        "df.head(1)"
      ],
      "metadata": {
        "colab": {
          "base_uri": "https://localhost:8080/",
          "height": 125
        },
        "id": "CFeuu0D64PZx",
        "outputId": "e608e56e-0793-4165-cd29-a91469032113"
      },
      "execution_count": 44,
      "outputs": [
        {
          "output_type": "execute_result",
          "data": {
            "text/plain": [
              "  Company  Location_HQ Industry  Laid_Off_Count Percentage       Date  \\\n",
              "0  Splunk  SF Bay Area     Data             325         4% 2023-02-01   \n",
              "\n",
              "                                              Source  Funds_Raised (Millions)  \\\n",
              "0  https://www.marketwatch.com/story/splunk-to-la...                   2400.0   \n",
              "\n",
              "  Stage      Date_Added        Country  year  \n",
              "0   IPO  2/1/2023 17:01  United States  2023  "
            ],
            "text/html": [
              "\n",
              "  <div id=\"df-522245c4-fbed-4171-b949-be98808c69c2\">\n",
              "    <div class=\"colab-df-container\">\n",
              "      <div>\n",
              "<style scoped>\n",
              "    .dataframe tbody tr th:only-of-type {\n",
              "        vertical-align: middle;\n",
              "    }\n",
              "\n",
              "    .dataframe tbody tr th {\n",
              "        vertical-align: top;\n",
              "    }\n",
              "\n",
              "    .dataframe thead th {\n",
              "        text-align: right;\n",
              "    }\n",
              "</style>\n",
              "<table border=\"1\" class=\"dataframe\">\n",
              "  <thead>\n",
              "    <tr style=\"text-align: right;\">\n",
              "      <th></th>\n",
              "      <th>Company</th>\n",
              "      <th>Location_HQ</th>\n",
              "      <th>Industry</th>\n",
              "      <th>Laid_Off_Count</th>\n",
              "      <th>Percentage</th>\n",
              "      <th>Date</th>\n",
              "      <th>Source</th>\n",
              "      <th>Funds_Raised (Millions)</th>\n",
              "      <th>Stage</th>\n",
              "      <th>Date_Added</th>\n",
              "      <th>Country</th>\n",
              "      <th>year</th>\n",
              "    </tr>\n",
              "  </thead>\n",
              "  <tbody>\n",
              "    <tr>\n",
              "      <th>0</th>\n",
              "      <td>Splunk</td>\n",
              "      <td>SF Bay Area</td>\n",
              "      <td>Data</td>\n",
              "      <td>325</td>\n",
              "      <td>4%</td>\n",
              "      <td>2023-02-01</td>\n",
              "      <td>https://www.marketwatch.com/story/splunk-to-la...</td>\n",
              "      <td>2400.0</td>\n",
              "      <td>IPO</td>\n",
              "      <td>2/1/2023 17:01</td>\n",
              "      <td>United States</td>\n",
              "      <td>2023</td>\n",
              "    </tr>\n",
              "  </tbody>\n",
              "</table>\n",
              "</div>\n",
              "      <button class=\"colab-df-convert\" onclick=\"convertToInteractive('df-522245c4-fbed-4171-b949-be98808c69c2')\"\n",
              "              title=\"Convert this dataframe to an interactive table.\"\n",
              "              style=\"display:none;\">\n",
              "        \n",
              "  <svg xmlns=\"http://www.w3.org/2000/svg\" height=\"24px\"viewBox=\"0 0 24 24\"\n",
              "       width=\"24px\">\n",
              "    <path d=\"M0 0h24v24H0V0z\" fill=\"none\"/>\n",
              "    <path d=\"M18.56 5.44l.94 2.06.94-2.06 2.06-.94-2.06-.94-.94-2.06-.94 2.06-2.06.94zm-11 1L8.5 8.5l.94-2.06 2.06-.94-2.06-.94L8.5 2.5l-.94 2.06-2.06.94zm10 10l.94 2.06.94-2.06 2.06-.94-2.06-.94-.94-2.06-.94 2.06-2.06.94z\"/><path d=\"M17.41 7.96l-1.37-1.37c-.4-.4-.92-.59-1.43-.59-.52 0-1.04.2-1.43.59L10.3 9.45l-7.72 7.72c-.78.78-.78 2.05 0 2.83L4 21.41c.39.39.9.59 1.41.59.51 0 1.02-.2 1.41-.59l7.78-7.78 2.81-2.81c.8-.78.8-2.07 0-2.86zM5.41 20L4 18.59l7.72-7.72 1.47 1.35L5.41 20z\"/>\n",
              "  </svg>\n",
              "      </button>\n",
              "      \n",
              "  <style>\n",
              "    .colab-df-container {\n",
              "      display:flex;\n",
              "      flex-wrap:wrap;\n",
              "      gap: 12px;\n",
              "    }\n",
              "\n",
              "    .colab-df-convert {\n",
              "      background-color: #E8F0FE;\n",
              "      border: none;\n",
              "      border-radius: 50%;\n",
              "      cursor: pointer;\n",
              "      display: none;\n",
              "      fill: #1967D2;\n",
              "      height: 32px;\n",
              "      padding: 0 0 0 0;\n",
              "      width: 32px;\n",
              "    }\n",
              "\n",
              "    .colab-df-convert:hover {\n",
              "      background-color: #E2EBFA;\n",
              "      box-shadow: 0px 1px 2px rgba(60, 64, 67, 0.3), 0px 1px 3px 1px rgba(60, 64, 67, 0.15);\n",
              "      fill: #174EA6;\n",
              "    }\n",
              "\n",
              "    [theme=dark] .colab-df-convert {\n",
              "      background-color: #3B4455;\n",
              "      fill: #D2E3FC;\n",
              "    }\n",
              "\n",
              "    [theme=dark] .colab-df-convert:hover {\n",
              "      background-color: #434B5C;\n",
              "      box-shadow: 0px 1px 3px 1px rgba(0, 0, 0, 0.15);\n",
              "      filter: drop-shadow(0px 1px 2px rgba(0, 0, 0, 0.3));\n",
              "      fill: #FFFFFF;\n",
              "    }\n",
              "  </style>\n",
              "\n",
              "      <script>\n",
              "        const buttonEl =\n",
              "          document.querySelector('#df-522245c4-fbed-4171-b949-be98808c69c2 button.colab-df-convert');\n",
              "        buttonEl.style.display =\n",
              "          google.colab.kernel.accessAllowed ? 'block' : 'none';\n",
              "\n",
              "        async function convertToInteractive(key) {\n",
              "          const element = document.querySelector('#df-522245c4-fbed-4171-b949-be98808c69c2');\n",
              "          const dataTable =\n",
              "            await google.colab.kernel.invokeFunction('convertToInteractive',\n",
              "                                                     [key], {});\n",
              "          if (!dataTable) return;\n",
              "\n",
              "          const docLinkHtml = 'Like what you see? Visit the ' +\n",
              "            '<a target=\"_blank\" href=https://colab.research.google.com/notebooks/data_table.ipynb>data table notebook</a>'\n",
              "            + ' to learn more about interactive tables.';\n",
              "          element.innerHTML = '';\n",
              "          dataTable['output_type'] = 'display_data';\n",
              "          await google.colab.output.renderOutput(dataTable, element);\n",
              "          const docLink = document.createElement('div');\n",
              "          docLink.innerHTML = docLinkHtml;\n",
              "          element.appendChild(docLink);\n",
              "        }\n",
              "      </script>\n",
              "    </div>\n",
              "  </div>\n",
              "  "
            ]
          },
          "metadata": {},
          "execution_count": 44
        }
      ]
    },
    {
      "cell_type": "code",
      "source": [
        "df['Stage'].unique()"
      ],
      "metadata": {
        "colab": {
          "base_uri": "https://localhost:8080/"
        },
        "id": "lrjLnFfI7k7F",
        "outputId": "6fcf82e8-1a11-41a4-b64d-e8c3e6c7f35b"
      },
      "execution_count": 45,
      "outputs": [
        {
          "output_type": "execute_result",
          "data": {
            "text/plain": [
              "array(['IPO', 'Series C', 'Series F', 'Private Equity', 'Unknown',\n",
              "       'Acquired', 'Series H', 'Series A', 'Series E', 'Series B',\n",
              "       'Series D', 'Subsidiary', 'Seed', 'Series I', 'Series J',\n",
              "       'Series G'], dtype=object)"
            ]
          },
          "metadata": {},
          "execution_count": 45
        }
      ]
    },
    {
      "cell_type": "code",
      "source": [
        "stage=df.groupby('Stage')['Laid_Off_Count'].sum()\n",
        "stage=stage.to_frame(name=\"count\")\n",
        "stage"
      ],
      "metadata": {
        "colab": {
          "base_uri": "https://localhost:8080/",
          "height": 582
        },
        "id": "r85C6INL7xNI",
        "outputId": "9f8fa820-8ce4-44fd-b180-ba303d1e0fd5"
      },
      "execution_count": 46,
      "outputs": [
        {
          "output_type": "execute_result",
          "data": {
            "text/plain": [
              "                 count\n",
              "Stage                 \n",
              "Acquired         16954\n",
              "IPO             165353\n",
              "Private Equity    6410\n",
              "Seed              1284\n",
              "Series A          3975\n",
              "Series B         11774\n",
              "Series C         12568\n",
              "Series D         15837\n",
              "Series E          9574\n",
              "Series F          5537\n",
              "Series G          3406\n",
              "Series H          5879\n",
              "Series I          2055\n",
              "Series J          2170\n",
              "Subsidiary         150\n",
              "Unknown          27391"
            ],
            "text/html": [
              "\n",
              "  <div id=\"df-95d03836-b969-413c-94fb-e2c8f6a31dd5\">\n",
              "    <div class=\"colab-df-container\">\n",
              "      <div>\n",
              "<style scoped>\n",
              "    .dataframe tbody tr th:only-of-type {\n",
              "        vertical-align: middle;\n",
              "    }\n",
              "\n",
              "    .dataframe tbody tr th {\n",
              "        vertical-align: top;\n",
              "    }\n",
              "\n",
              "    .dataframe thead th {\n",
              "        text-align: right;\n",
              "    }\n",
              "</style>\n",
              "<table border=\"1\" class=\"dataframe\">\n",
              "  <thead>\n",
              "    <tr style=\"text-align: right;\">\n",
              "      <th></th>\n",
              "      <th>count</th>\n",
              "    </tr>\n",
              "    <tr>\n",
              "      <th>Stage</th>\n",
              "      <th></th>\n",
              "    </tr>\n",
              "  </thead>\n",
              "  <tbody>\n",
              "    <tr>\n",
              "      <th>Acquired</th>\n",
              "      <td>16954</td>\n",
              "    </tr>\n",
              "    <tr>\n",
              "      <th>IPO</th>\n",
              "      <td>165353</td>\n",
              "    </tr>\n",
              "    <tr>\n",
              "      <th>Private Equity</th>\n",
              "      <td>6410</td>\n",
              "    </tr>\n",
              "    <tr>\n",
              "      <th>Seed</th>\n",
              "      <td>1284</td>\n",
              "    </tr>\n",
              "    <tr>\n",
              "      <th>Series A</th>\n",
              "      <td>3975</td>\n",
              "    </tr>\n",
              "    <tr>\n",
              "      <th>Series B</th>\n",
              "      <td>11774</td>\n",
              "    </tr>\n",
              "    <tr>\n",
              "      <th>Series C</th>\n",
              "      <td>12568</td>\n",
              "    </tr>\n",
              "    <tr>\n",
              "      <th>Series D</th>\n",
              "      <td>15837</td>\n",
              "    </tr>\n",
              "    <tr>\n",
              "      <th>Series E</th>\n",
              "      <td>9574</td>\n",
              "    </tr>\n",
              "    <tr>\n",
              "      <th>Series F</th>\n",
              "      <td>5537</td>\n",
              "    </tr>\n",
              "    <tr>\n",
              "      <th>Series G</th>\n",
              "      <td>3406</td>\n",
              "    </tr>\n",
              "    <tr>\n",
              "      <th>Series H</th>\n",
              "      <td>5879</td>\n",
              "    </tr>\n",
              "    <tr>\n",
              "      <th>Series I</th>\n",
              "      <td>2055</td>\n",
              "    </tr>\n",
              "    <tr>\n",
              "      <th>Series J</th>\n",
              "      <td>2170</td>\n",
              "    </tr>\n",
              "    <tr>\n",
              "      <th>Subsidiary</th>\n",
              "      <td>150</td>\n",
              "    </tr>\n",
              "    <tr>\n",
              "      <th>Unknown</th>\n",
              "      <td>27391</td>\n",
              "    </tr>\n",
              "  </tbody>\n",
              "</table>\n",
              "</div>\n",
              "      <button class=\"colab-df-convert\" onclick=\"convertToInteractive('df-95d03836-b969-413c-94fb-e2c8f6a31dd5')\"\n",
              "              title=\"Convert this dataframe to an interactive table.\"\n",
              "              style=\"display:none;\">\n",
              "        \n",
              "  <svg xmlns=\"http://www.w3.org/2000/svg\" height=\"24px\"viewBox=\"0 0 24 24\"\n",
              "       width=\"24px\">\n",
              "    <path d=\"M0 0h24v24H0V0z\" fill=\"none\"/>\n",
              "    <path d=\"M18.56 5.44l.94 2.06.94-2.06 2.06-.94-2.06-.94-.94-2.06-.94 2.06-2.06.94zm-11 1L8.5 8.5l.94-2.06 2.06-.94-2.06-.94L8.5 2.5l-.94 2.06-2.06.94zm10 10l.94 2.06.94-2.06 2.06-.94-2.06-.94-.94-2.06-.94 2.06-2.06.94z\"/><path d=\"M17.41 7.96l-1.37-1.37c-.4-.4-.92-.59-1.43-.59-.52 0-1.04.2-1.43.59L10.3 9.45l-7.72 7.72c-.78.78-.78 2.05 0 2.83L4 21.41c.39.39.9.59 1.41.59.51 0 1.02-.2 1.41-.59l7.78-7.78 2.81-2.81c.8-.78.8-2.07 0-2.86zM5.41 20L4 18.59l7.72-7.72 1.47 1.35L5.41 20z\"/>\n",
              "  </svg>\n",
              "      </button>\n",
              "      \n",
              "  <style>\n",
              "    .colab-df-container {\n",
              "      display:flex;\n",
              "      flex-wrap:wrap;\n",
              "      gap: 12px;\n",
              "    }\n",
              "\n",
              "    .colab-df-convert {\n",
              "      background-color: #E8F0FE;\n",
              "      border: none;\n",
              "      border-radius: 50%;\n",
              "      cursor: pointer;\n",
              "      display: none;\n",
              "      fill: #1967D2;\n",
              "      height: 32px;\n",
              "      padding: 0 0 0 0;\n",
              "      width: 32px;\n",
              "    }\n",
              "\n",
              "    .colab-df-convert:hover {\n",
              "      background-color: #E2EBFA;\n",
              "      box-shadow: 0px 1px 2px rgba(60, 64, 67, 0.3), 0px 1px 3px 1px rgba(60, 64, 67, 0.15);\n",
              "      fill: #174EA6;\n",
              "    }\n",
              "\n",
              "    [theme=dark] .colab-df-convert {\n",
              "      background-color: #3B4455;\n",
              "      fill: #D2E3FC;\n",
              "    }\n",
              "\n",
              "    [theme=dark] .colab-df-convert:hover {\n",
              "      background-color: #434B5C;\n",
              "      box-shadow: 0px 1px 3px 1px rgba(0, 0, 0, 0.15);\n",
              "      filter: drop-shadow(0px 1px 2px rgba(0, 0, 0, 0.3));\n",
              "      fill: #FFFFFF;\n",
              "    }\n",
              "  </style>\n",
              "\n",
              "      <script>\n",
              "        const buttonEl =\n",
              "          document.querySelector('#df-95d03836-b969-413c-94fb-e2c8f6a31dd5 button.colab-df-convert');\n",
              "        buttonEl.style.display =\n",
              "          google.colab.kernel.accessAllowed ? 'block' : 'none';\n",
              "\n",
              "        async function convertToInteractive(key) {\n",
              "          const element = document.querySelector('#df-95d03836-b969-413c-94fb-e2c8f6a31dd5');\n",
              "          const dataTable =\n",
              "            await google.colab.kernel.invokeFunction('convertToInteractive',\n",
              "                                                     [key], {});\n",
              "          if (!dataTable) return;\n",
              "\n",
              "          const docLinkHtml = 'Like what you see? Visit the ' +\n",
              "            '<a target=\"_blank\" href=https://colab.research.google.com/notebooks/data_table.ipynb>data table notebook</a>'\n",
              "            + ' to learn more about interactive tables.';\n",
              "          element.innerHTML = '';\n",
              "          dataTable['output_type'] = 'display_data';\n",
              "          await google.colab.output.renderOutput(dataTable, element);\n",
              "          const docLink = document.createElement('div');\n",
              "          docLink.innerHTML = docLinkHtml;\n",
              "          element.appendChild(docLink);\n",
              "        }\n",
              "      </script>\n",
              "    </div>\n",
              "  </div>\n",
              "  "
            ]
          },
          "metadata": {},
          "execution_count": 46
        }
      ]
    },
    {
      "cell_type": "code",
      "source": [
        "plt.subplots(figsize=(20,10))\n",
        "ax=sns.barplot(x=stage.index,y=stage['count'])\n",
        "for i in ax.containers:\n",
        "  ax.bar_label(i,)"
      ],
      "metadata": {
        "colab": {
          "base_uri": "https://localhost:8080/",
          "height": 606
        },
        "id": "-Zor62tM9GVM",
        "outputId": "189ba099-be1e-48f7-c769-e3fae54a0be0"
      },
      "execution_count": 47,
      "outputs": [
        {
          "output_type": "display_data",
          "data": {
            "text/plain": [
              "<Figure size 1440x720 with 1 Axes>"
            ],
            "image/png": "[encoded data removed]"
          },
          "metadata": {
            "needs_background": "light"
          }
        }
      ]
    },
    {
      "cell_type": "markdown",
      "source": [
        "**The company which is in IPO(initial public offering)stage means can sell stocks laid off most employee which is clear that IPO stage companys has more employess complared to other stage companys which is the reason for the huge count. **"
      ],
      "metadata": {
        "id": "wcuMSP2H9cCO"
      }
    },
    {
      "cell_type": "code",
      "source": [
        "per=df.sort_values(by='Percentage',ascending=False)"
      ],
      "metadata": {
        "id": "KQ6KeKiG9ZhI"
      },
      "execution_count": 48,
      "outputs": []
    },
    {
      "cell_type": "code",
      "source": [
        "per['Percentage'] = pd.to_numeric(per['Percentage'].str.strip('%')) / 100"
      ],
      "metadata": {
        "id": "YW0Z80Sn_HJy"
      },
      "execution_count": 49,
      "outputs": []
    },
    {
      "cell_type": "code",
      "source": [
        "pre=per.head(15)"
      ],
      "metadata": {
        "id": "dfibQFOr_x-c"
      },
      "execution_count": 50,
      "outputs": []
    },
    {
      "cell_type": "code",
      "source": [
        "plt.subplots(figsize=(20,10))\n",
        "ax=sns.barplot(data=pre,x='Company',y='Percentage',palette=\"rainbow\")\n",
        "for i in ax.containers:\n",
        "  ax.bar_label(i,)"
      ],
      "metadata": {
        "colab": {
          "base_uri": "https://localhost:8080/",
          "height": 606
        },
        "id": "195oMZ3G_HhH",
        "outputId": "dfa12119-7a4a-475d-fa0d-699d3776b5c2"
      },
      "execution_count": 51,
      "outputs": [
        {
          "output_type": "display_data",
          "data": {
            "text/plain": [
              "<Figure size 1440x720 with 1 Axes>"
            ],
            "image/png": "[encoded data removed]"
          },
          "metadata": {
            "needs_background": "light"
          }
        }
      ]
    },
    {
      "cell_type": "markdown",
      "source": [
        "***Flywheel Sports is laid off around 98 percentage of their exployees count.***"
      ],
      "metadata": {
        "id": "f1XyStz4AVBJ"
      }
    },
    {
      "cell_type": "code",
      "source": [
        "df.to_csv('final.csv', index=False)"
      ],
      "metadata": {
        "id": "mpA4bNMeBmbz"
      },
      "execution_count": 53,
      "outputs": []
    },
    {
      "cell_type": "code",
      "source": [
        "com=df.groupby('Company')['Funds_Raised (Millions)'].sum()\n",
        "com=com.sort_values(ascending=False)\n",
        "com=com.to_frame(name=\"count\")\n",
        "com=com.head(15)\n",
        "plt.subplots(figsize=(20,10))\n",
        "ax=sns.barplot(x=com.index,y=com['count'])\n",
        "for i in ax.containers:\n",
        "    ax.bar_label(i, label_type='edge')"
      ],
      "metadata": {
        "id": "wo5YafiplnWI",
        "colab": {
          "base_uri": "https://localhost:8080/",
          "height": 606
        },
        "outputId": "b25ca369-e2ac-4483-9a44-656523cc49f9"
      },
      "execution_count": 56,
      "outputs": [
        {
          "output_type": "display_data",
          "data": {
            "text/plain": [
              "<Figure size 1440x720 with 1 Axes>"
            ],
            "image/png": "[encoded data removed]"
          },
          "metadata": {
            "needs_background": "light"
          }
        }
      ]
    },
    {
      "cell_type": "code",
      "source": [
        "xx=df.sort_values(by='Funds_Raised (Millions)',ascending=False)"
      ],
      "metadata": {
        "id": "oBrovL0_77IL"
      },
      "execution_count": 57,
      "outputs": []
    },
    {
      "cell_type": "code",
      "source": [
        "xx.head(5)"
      ],
      "metadata": {
        "colab": {
          "base_uri": "https://localhost:8080/",
          "height": 354
        },
        "id": "_WOx5Qjc8DGp",
        "outputId": "dc307a69-5d07-43c1-c3bb-9f82a39746ed"
      },
      "execution_count": 58,
      "outputs": [
        {
          "output_type": "execute_result",
          "data": {
            "text/plain": [
              "     Company  Location_HQ        Industry  Laid_Off_Count Percentage  \\\n",
              "570  Netflix  SF Bay Area           Media             300         3%   \n",
              "683  Netflix  SF Bay Area           Media             150         1%   \n",
              "261     Meta  SF Bay Area        Consumer           11000        13%   \n",
              "829     Uber  SF Bay Area  Transportation            3000        13%   \n",
              "789     Uber    Amsterdam  Transportation             225        25%   \n",
              "\n",
              "          Date                                             Source  \\\n",
              "570 2022-06-23  https://www.cnbc.com/2022/06/23/netflix-lays-o...   \n",
              "683 2022-05-17  https://www.cnbc.com/2022/05/17/netflix-lays-o...   \n",
              "261 2022-11-09  https://www.cnbc.com/2022/11/09/meta-to-lay-of...   \n",
              "829 2020-05-18  https://layoffs.fyi/2020/05/18/uber-lays-off-3...   \n",
              "789 2020-06-12  https://www.dutchnews.nl/news/2020/06/uber-cut...   \n",
              "\n",
              "     Funds_Raised (Millions) Stage       Date_Added        Country  year  \n",
              "570                 121900.0   IPO  6/23/2022 19:35  United States  2022  \n",
              "683                 121900.0   IPO  5/17/2022 18:58  United States  2022  \n",
              "261                  26000.0   IPO  11/9/2022 15:04  United States  2022  \n",
              "829                  24700.0   IPO  5/18/2020 15:28  United States  2020  \n",
              "789                  24700.0   IPO  6/27/2020 18:25    Netherlands  2020  "
            ],
            "text/html": [
              "\n",
              "  <div id=\"df-e1449ce9-4b76-4453-bb3a-1b9cc47afa08\">\n",
              "    <div class=\"colab-df-container\">\n",
              "      <div>\n",
              "<style scoped>\n",
              "    .dataframe tbody tr th:only-of-type {\n",
              "        vertical-align: middle;\n",
              "    }\n",
              "\n",
              "    .dataframe tbody tr th {\n",
              "        vertical-align: top;\n",
              "    }\n",
              "\n",
              "    .dataframe thead th {\n",
              "        text-align: right;\n",
              "    }\n",
              "</style>\n",
              "<table border=\"1\" class=\"dataframe\">\n",
              "  <thead>\n",
              "    <tr style=\"text-align: right;\">\n",
              "      <th></th>\n",
              "      <th>Company</th>\n",
              "      <th>Location_HQ</th>\n",
              "      <th>Industry</th>\n",
              "      <th>Laid_Off_Count</th>\n",
              "      <th>Percentage</th>\n",
              "      <th>Date</th>\n",
              "      <th>Source</th>\n",
              "      <th>Funds_Raised (Millions)</th>\n",
              "      <th>Stage</th>\n",
              "      <th>Date_Added</th>\n",
              "      <th>Country</th>\n",
              "      <th>year</th>\n",
              "    </tr>\n",
              "  </thead>\n",
              "  <tbody>\n",
              "    <tr>\n",
              "      <th>570</th>\n",
              "      <td>Netflix</td>\n",
              "      <td>SF Bay Area</td>\n",
              "      <td>Media</td>\n",
              "      <td>300</td>\n",
              "      <td>3%</td>\n",
              "      <td>2022-06-23</td>\n",
              "      <td>https://www.cnbc.com/2022/06/23/netflix-lays-o...</td>\n",
              "      <td>121900.0</td>\n",
              "      <td>IPO</td>\n",
              "      <td>6/23/2022 19:35</td>\n",
              "      <td>United States</td>\n",
              "      <td>2022</td>\n",
              "    </tr>\n",
              "    <tr>\n",
              "      <th>683</th>\n",
              "      <td>Netflix</td>\n",
              "      <td>SF Bay Area</td>\n",
              "      <td>Media</td>\n",
              "      <td>150</td>\n",
              "      <td>1%</td>\n",
              "      <td>2022-05-17</td>\n",
              "      <td>https://www.cnbc.com/2022/05/17/netflix-lays-o...</td>\n",
              "      <td>121900.0</td>\n",
              "      <td>IPO</td>\n",
              "      <td>5/17/2022 18:58</td>\n",
              "      <td>United States</td>\n",
              "      <td>2022</td>\n",
              "    </tr>\n",
              "    <tr>\n",
              "      <th>261</th>\n",
              "      <td>Meta</td>\n",
              "      <td>SF Bay Area</td>\n",
              "      <td>Consumer</td>\n",
              "      <td>11000</td>\n",
              "      <td>13%</td>\n",
              "      <td>2022-11-09</td>\n",
              "      <td>https://www.cnbc.com/2022/11/09/meta-to-lay-of...</td>\n",
              "      <td>26000.0</td>\n",
              "      <td>IPO</td>\n",
              "      <td>11/9/2022 15:04</td>\n",
              "      <td>United States</td>\n",
              "      <td>2022</td>\n",
              "    </tr>\n",
              "    <tr>\n",
              "      <th>829</th>\n",
              "      <td>Uber</td>\n",
              "      <td>SF Bay Area</td>\n",
              "      <td>Transportation</td>\n",
              "      <td>3000</td>\n",
              "      <td>13%</td>\n",
              "      <td>2020-05-18</td>\n",
              "      <td>https://layoffs.fyi/2020/05/18/uber-lays-off-3...</td>\n",
              "      <td>24700.0</td>\n",
              "      <td>IPO</td>\n",
              "      <td>5/18/2020 15:28</td>\n",
              "      <td>United States</td>\n",
              "      <td>2020</td>\n",
              "    </tr>\n",
              "    <tr>\n",
              "      <th>789</th>\n",
              "      <td>Uber</td>\n",
              "      <td>Amsterdam</td>\n",
              "      <td>Transportation</td>\n",
              "      <td>225</td>\n",
              "      <td>25%</td>\n",
              "      <td>2020-06-12</td>\n",
              "      <td>https://www.dutchnews.nl/news/2020/06/uber-cut...</td>\n",
              "      <td>24700.0</td>\n",
              "      <td>IPO</td>\n",
              "      <td>6/27/2020 18:25</td>\n",
              "      <td>Netherlands</td>\n",
              "      <td>2020</td>\n",
              "    </tr>\n",
              "  </tbody>\n",
              "</table>\n",
              "</div>\n",
              "      <button class=\"colab-df-convert\" onclick=\"convertToInteractive('df-e1449ce9-4b76-4453-bb3a-1b9cc47afa08')\"\n",
              "              title=\"Convert this dataframe to an interactive table.\"\n",
              "              style=\"display:none;\">\n",
              "        \n",
              "  <svg xmlns=\"http://www.w3.org/2000/svg\" height=\"24px\"viewBox=\"0 0 24 24\"\n",
              "       width=\"24px\">\n",
              "    <path d=\"M0 0h24v24H0V0z\" fill=\"none\"/>\n",
              "    <path d=\"M18.56 5.44l.94 2.06.94-2.06 2.06-.94-2.06-.94-.94-2.06-.94 2.06-2.06.94zm-11 1L8.5 8.5l.94-2.06 2.06-.94-2.06-.94L8.5 2.5l-.94 2.06-2.06.94zm10 10l.94 2.06.94-2.06 2.06-.94-2.06-.94-.94-2.06-.94 2.06-2.06.94z\"/><path d=\"M17.41 7.96l-1.37-1.37c-.4-.4-.92-.59-1.43-.59-.52 0-1.04.2-1.43.59L10.3 9.45l-7.72 7.72c-.78.78-.78 2.05 0 2.83L4 21.41c.39.39.9.59 1.41.59.51 0 1.02-.2 1.41-.59l7.78-7.78 2.81-2.81c.8-.78.8-2.07 0-2.86zM5.41 20L4 18.59l7.72-7.72 1.47 1.35L5.41 20z\"/>\n",
              "  </svg>\n",
              "      </button>\n",
              "      \n",
              "  <style>\n",
              "    .colab-df-container {\n",
              "      display:flex;\n",
              "      flex-wrap:wrap;\n",
              "      gap: 12px;\n",
              "    }\n",
              "\n",
              "    .colab-df-convert {\n",
              "      background-color: #E8F0FE;\n",
              "      border: none;\n",
              "      border-radius: 50%;\n",
              "      cursor: pointer;\n",
              "      display: none;\n",
              "      fill: #1967D2;\n",
              "      height: 32px;\n",
              "      padding: 0 0 0 0;\n",
              "      width: 32px;\n",
              "    }\n",
              "\n",
              "    .colab-df-convert:hover {\n",
              "      background-color: #E2EBFA;\n",
              "      box-shadow: 0px 1px 2px rgba(60, 64, 67, 0.3), 0px 1px 3px 1px rgba(60, 64, 67, 0.15);\n",
              "      fill: #174EA6;\n",
              "    }\n",
              "\n",
              "    [theme=dark] .colab-df-convert {\n",
              "      background-color: #3B4455;\n",
              "      fill: #D2E3FC;\n",
              "    }\n",
              "\n",
              "    [theme=dark] .colab-df-convert:hover {\n",
              "      background-color: #434B5C;\n",
              "      box-shadow: 0px 1px 3px 1px rgba(0, 0, 0, 0.15);\n",
              "      filter: drop-shadow(0px 1px 2px rgba(0, 0, 0, 0.3));\n",
              "      fill: #FFFFFF;\n",
              "    }\n",
              "  </style>\n",
              "\n",
              "      <script>\n",
              "        const buttonEl =\n",
              "          document.querySelector('#df-e1449ce9-4b76-4453-bb3a-1b9cc47afa08 button.colab-df-convert');\n",
              "        buttonEl.style.display =\n",
              "          google.colab.kernel.accessAllowed ? 'block' : 'none';\n",
              "\n",
              "        async function convertToInteractive(key) {\n",
              "          const element = document.querySelector('#df-e1449ce9-4b76-4453-bb3a-1b9cc47afa08');\n",
              "          const dataTable =\n",
              "            await google.colab.kernel.invokeFunction('convertToInteractive',\n",
              "                                                     [key], {});\n",
              "          if (!dataTable) return;\n",
              "\n",
              "          const docLinkHtml = 'Like what you see? Visit the ' +\n",
              "            '<a target=\"_blank\" href=https://colab.research.google.com/notebooks/data_table.ipynb>data table notebook</a>'\n",
              "            + ' to learn more about interactive tables.';\n",
              "          element.innerHTML = '';\n",
              "          dataTable['output_type'] = 'display_data';\n",
              "          await google.colab.output.renderOutput(dataTable, element);\n",
              "          const docLink = document.createElement('div');\n",
              "          docLink.innerHTML = docLinkHtml;\n",
              "          element.appendChild(docLink);\n",
              "        }\n",
              "      </script>\n",
              "    </div>\n",
              "  </div>\n",
              "  "
            ]
          },
          "metadata": {},
          "execution_count": 58
        }
      ]
    },
    {
      "cell_type": "markdown",
      "source": [
        "***Netflix has raised more fund by layoff***"
      ],
      "metadata": {
        "id": "l2KKcsz3-Hd8"
      }
    },
    {
      "cell_type": "code",
      "source": [],
      "metadata": {
        "id": "xXeN-COyGjNo"
      },
      "execution_count": null,
      "outputs": []
    }
  ]
}